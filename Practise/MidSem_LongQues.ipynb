{
 "cells": [
  {
   "cell_type": "markdown",
   "metadata": {},
   "source": [
    "### Ask users marks, store it in list and print second lowest mark\n"
   ]
  },
  {
   "cell_type": "code",
   "execution_count": 5,
   "metadata": {},
   "outputs": [
    {
     "name": "stdout",
     "output_type": "stream",
     "text": [
      "Enter number of subjects: 8\n",
      "Enter subject-1 marks: 1\n",
      "Enter subject-2 marks: 1\n",
      "Enter subject-3 marks: 5\n",
      "Enter subject-4 marks: 2\n",
      "Enter subject-5 marks: 4\n",
      "Enter subject-6 marks: 1\n",
      "Enter subject-7 marks: 1\n",
      "Enter subject-8 marks: 2\n",
      "2.0\n"
     ]
    }
   ],
   "source": [
    "sub = int(input(\"Enter number of subjects: \"))\n",
    "marks = []\n",
    "second_low = 0\n",
    "for i in range(1,sub+1):\n",
    "    score = float(input(\"Enter subject-\"+str(i)+\" marks: \"))\n",
    "    marks.append(score)\n",
    "# print(marks)\n",
    "ordered = sorted(marks)\n",
    "# print(ordered)\n",
    "for i in range(0,sub):\n",
    "    if ordered[i] != ordered[0]:\n",
    "        second_low = ordered[i]\n",
    "        break;\n",
    "print(second_low)"
   ]
  },
  {
   "cell_type": "markdown",
   "metadata": {},
   "source": [
    "### Calculate the number of letters and digits in python"
   ]
  },
  {
   "cell_type": "code",
   "execution_count": 6,
   "metadata": {},
   "outputs": [
    {
     "name": "stdout",
     "output_type": "stream",
     "text": [
      "Enter a sentence: Hello World! 123\n",
      "Letters:  10 \n",
      " Digits:  3\n"
     ]
    }
   ],
   "source": [
    "str = input(\"Enter a sentence: \")\n",
    "l=d=0\n",
    "\n",
    "for i in str:\n",
    "    if i.isdigit():\n",
    "        d +=1\n",
    "    elif i.isalpha():\n",
    "        l +=1\n",
    "    else:\n",
    "        continue\n",
    "print(\"Letters: \",l,\"\\n Digits: \",d)\n"
   ]
  },
  {
   "cell_type": "markdown",
   "metadata": {},
   "source": [
    "### Read a text file in python and do following:\n",
    "i. print no. of lines\n",
    "ii. print no. of statements\n",
    "iii. print no. of unique words\n",
    "iv. store each word with its occurrence in dictionary"
   ]
  },
  {
   "cell_type": "code",
   "execution_count": null,
   "metadata": {},
   "outputs": [],
   "source": []
  },
  {
   "cell_type": "code",
   "execution_count": null,
   "metadata": {},
   "outputs": [],
   "source": []
  },
  {
   "cell_type": "markdown",
   "metadata": {},
   "source": [
    "### Flatten a nested list structure.\n",
    "Example: if list1 = [1, [2, 3], [4, 5, [6, 7] ] ] then try to convert it in\n",
    "\n",
    "1-dimensional [1, 2, 3, 4, 5, 6, 7]"
   ]
  },
  {
   "cell_type": "code",
   "execution_count": 2,
   "metadata": {},
   "outputs": [
    {
     "name": "stdout",
     "output_type": "stream",
     "text": [
      "Output:  [1, 2, 3, 4, 5, 6, 7, 8, 9, 10]\n"
     ]
    }
   ],
   "source": [
    "list1 = [1, [2, 3], [4, 5, [6, 7] ] ]\n",
    "l = [1, 2, [3, 4, [5, 6]], 7, 8, [9, [10]]] \n",
    "\n",
    "output = []\n",
    "\n",
    "def removeNestedList(l):\n",
    "    for i in l:\n",
    "        if type(i) == list:\n",
    "            removeNestedList(i)\n",
    "        else:\n",
    "            output.append(i)\n",
    "            \n",
    "removeNestedList(l)\n",
    "print(\"Output: \",output)"
   ]
  },
  {
   "cell_type": "code",
   "execution_count": null,
   "metadata": {},
   "outputs": [],
   "source": []
  },
  {
   "cell_type": "markdown",
   "metadata": {},
   "source": [
    "### Given a string, find the first appearance of the substring &#39;not&#39; and\n",
    "&#39;bad&#39;.\n",
    "If the &#39;bad&#39; follows the &#39;not&#39;, replace the whole &#39;not&#39;...&#39;bad&#39;\n",
    "substring with &#39;good&#39;.\n",
    "Return the resulting string.\n",
    "Example :\n",
    "This dinner is not that bad! → This dinner is good!\n",
    "This tea is not hot → This tea is not hot\n",
    "\n",
    "not not bad bad → good bad"
   ]
  },
  {
   "cell_type": "code",
   "execution_count": 41,
   "metadata": {},
   "outputs": [
    {
     "name": "stdout",
     "output_type": "stream",
     "text": [
      "not not bad bad\n"
     ]
    }
   ],
   "source": [
    "# str1 = \" This dinner is not that bad!\" #working\n",
    "# str1 = \"This tea is not hot \" #working \n",
    "str1 = \"not not bad bad\" #not working \n",
    "\n",
    "\n",
    "def badtogood(str1):\n",
    "    snot = str1.find(\"not\")\n",
    "    sbad = str1.find(\"bad\")\n",
    "    # print(snot); print(sbad)\n",
    "    \n",
    "    if sbad > snot and snot >0 and sbad > 0:\n",
    "        str1 = str1.replace(str1[snot:(sbad+4)], 'good')\n",
    "        return str1\n",
    "    else:\n",
    "        return str1\n",
    "\n",
    "print(badtogood(str1))"
   ]
  },
  {
   "cell_type": "markdown",
   "metadata": {},
   "source": [
    "### Given a list, return a list with the elements &quot;shifted left by one position\n",
    "so [1, 2, 3] yields [2, 3, 1].\n",
    "Example:\n",
    "[1, 2, 3] → [2, 3, 1]\n",
    "[5, 11, 9] → [11, 9, 5]\n",
    "[7, 0, 0] → [0, 0, 7]"
   ]
  },
  {
   "cell_type": "code",
   "execution_count": 44,
   "metadata": {},
   "outputs": [
    {
     "name": "stdout",
     "output_type": "stream",
     "text": [
      "[12, 1, 4, 5, 6, 7, 8, 9]\n"
     ]
    }
   ],
   "source": [
    "test_list = [1, 4, 5, 6, 7, 8, 9, 12] \n",
    "# test_list = test_list[-1:] --> [12]\n",
    "# test_list = test_list[:-1] --> [1, 4, 5, 6, 7, 8, 9]\n",
    "\n",
    "test_list = test_list[-1:] + test_list[:-1]\n",
    "\n",
    "print(test_list)"
   ]
  },
  {
   "cell_type": "markdown",
   "metadata": {},
   "source": [
    "### Return the sum of the numbers in the array, returning 0 for an\n",
    "empty array. Except the number 13 is very unlucky, so it does not\n",
    "count and numbers that come immediately after a 13 also do not\n",
    "count.\n",
    "[1, 2, 2, 1] = 6\n",
    "[1, 1] = 2\n",
    "[1, 2, 2, 1, 13] = 6\n",
    "[13, 2, 2, 1, 13] = 3"
   ]
  },
  {
   "cell_type": "code",
   "execution_count": 51,
   "metadata": {},
   "outputs": [
    {
     "name": "stdout",
     "output_type": "stream",
     "text": [
      "3\n"
     ]
    }
   ],
   "source": [
    "def sum13(num):\n",
    "    if len(num)<0:\n",
    "        return 0\n",
    "    \n",
    "    for i in range(0,len(num)):\n",
    "        if num[i] == 13:\n",
    "            num[i] = 0\n",
    "            if i+1 < len(num):\n",
    "                num[i+1] = 0\n",
    "    \n",
    "    return sum(num)\n",
    "\n",
    "# num =  [1, 2, 2, 1] \n",
    "# num =  [1, 1]\n",
    "# num =   [1, 2, 2, 1, 13] \n",
    "num = [13, 2, 2, 1, 13]\n",
    "\n",
    "print(sum13(num))"
   ]
  },
  {
   "cell_type": "code",
   "execution_count": null,
   "metadata": {},
   "outputs": [],
   "source": []
  },
  {
   "cell_type": "code",
   "execution_count": null,
   "metadata": {},
   "outputs": [],
   "source": []
  }
 ],
 "metadata": {
  "kernelspec": {
   "display_name": "Python 3",
   "language": "python",
   "name": "python3"
  },
  "language_info": {
   "codemirror_mode": {
    "name": "ipython",
    "version": 3
   },
   "file_extension": ".py",
   "mimetype": "text/x-python",
   "name": "python",
   "nbconvert_exporter": "python",
   "pygments_lexer": "ipython3",
   "version": "3.8.5"
  }
 },
 "nbformat": 4,
 "nbformat_minor": 4
}
