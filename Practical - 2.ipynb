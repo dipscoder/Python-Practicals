{
 "cells": [
  {
   "cell_type": "markdown",
   "metadata": {},
   "source": [
    "## WAP to check whether entered number is even or odd."
   ]
  },
  {
   "cell_type": "code",
   "execution_count": 8,
   "metadata": {},
   "outputs": [
    {
     "name": "stdout",
     "output_type": "stream",
     "text": [
      "Enter number: 5\n",
      "Odd\n"
     ]
    }
   ],
   "source": [
    "n = int(input(\"Enter number: \"))\n",
    "if(n%2 == 0):\n",
    "    print(\"Even\")\n",
    "else:\n",
    "    print(\"Odd\")"
   ]
  },
  {
   "cell_type": "markdown",
   "metadata": {},
   "source": [
    "## WAP to find whether entered number is positive, negative or zero."
   ]
  },
  {
   "cell_type": "code",
   "execution_count": 12,
   "metadata": {},
   "outputs": [
    {
     "name": "stdout",
     "output_type": "stream",
     "text": [
      "Enter number: 4\n",
      "Positive\n"
     ]
    }
   ],
   "source": [
    "n = int(input(\"Enter number: \"))\n",
    "if(n == 0):\n",
    "    print(\"Zero\")\n",
    "elif(n>0):\n",
    "    print(\"Positive\")\n",
    "else:\n",
    "    print(\"Negative\")"
   ]
  },
  {
   "cell_type": "markdown",
   "metadata": {},
   "source": [
    "## WAP to find roots of quadratic equations if roots are real."
   ]
  },
  {
   "cell_type": "code",
   "execution_count": 15,
   "metadata": {},
   "outputs": [
    {
     "name": "stdout",
     "output_type": "stream",
     "text": [
      "(-1.3333333333333333+1.1055415967851332j) (-1.3333333333333333-1.1055415967851332j)\n"
     ]
    }
   ],
   "source": [
    "a = 3\n",
    "b = 8\n",
    "c = 9\n",
    "#Discriminant\n",
    "d = (b**2) - (4*a*c)\n",
    "#Roots\n",
    "pos = (-b + (d**0.5)) / (2*a)\n",
    "neg = (-b - (d**0.5)) / (2*a) \n",
    "\n",
    "print(pos,neg)"
   ]
  },
  {
   "cell_type": "markdown",
   "metadata": {},
   "source": [
    "## WAP to check whether entered character is vowel or consonant."
   ]
  },
  {
   "cell_type": "markdown",
   "metadata": {},
   "source": [
    "- Method 1"
   ]
  },
  {
   "cell_type": "code",
   "execution_count": 29,
   "metadata": {},
   "outputs": [
    {
     "name": "stdout",
     "output_type": "stream",
     "text": [
      "Enter a character: u\n",
      "Vowel\n"
     ]
    }
   ],
   "source": [
    "c = input(\"Enter a character: \")\n",
    "# type(c)\n",
    "vowel = ['a','i','e','o','u','A','E','I','O','U']\n",
    "if c in vowel:\n",
    "    print(\"Vowel\")\n",
    "else:\n",
    "    print(\"Consonant\")\n"
   ]
  },
  {
   "cell_type": "markdown",
   "metadata": {},
   "source": [
    "- Method 2"
   ]
  },
  {
   "cell_type": "code",
   "execution_count": 34,
   "metadata": {},
   "outputs": [
    {
     "name": "stdout",
     "output_type": "stream",
     "text": [
      "Enter a character: t\n",
      "t is a Consonant\n"
     ]
    }
   ],
   "source": [
    "ch = input(\"Enter a character: \")\n",
    "\n",
    "if(ch=='A' or ch=='a' or ch=='E' or ch =='e' or ch=='I'\n",
    "or ch=='i' or ch=='O' or ch=='o' or ch=='U' or ch=='u'):\n",
    "    print(ch, \"is a Vowel\")\n",
    "else:\n",
    "    print(ch, \"is a Consonant\")"
   ]
  },
  {
   "cell_type": "markdown",
   "metadata": {},
   "source": [
    "## WAP to find maximum of three numbers (nested if-else)."
   ]
  },
  {
   "cell_type": "code",
   "execution_count": 39,
   "metadata": {},
   "outputs": [
    {
     "name": "stdout",
     "output_type": "stream",
     "text": [
      "Enter three numbers: 4 2 0\n",
      "Max is  4.0\n"
     ]
    }
   ],
   "source": [
    "a,b,c = input(\"Enter three numbers: \").split()\n",
    "a = float(a)\n",
    "b = float(b)\n",
    "c = float(c)\n",
    "\n",
    "if(a>b):\n",
    "    if(a>c):\n",
    "        print(\"Max is \",a)\n",
    "    else:\n",
    "        print(\"Max is\",c)\n",
    "else:\n",
    "    if(b>c):\n",
    "        print(\"Max is \",b)\n",
    "    else:\n",
    "        print(\"Max is\",c)\n",
    "        "
   ]
  },
  {
   "cell_type": "markdown",
   "metadata": {},
   "source": [
    "## WAP to calculate the salary of an employee based on following conditions (nested if-else):\n",
    "1. if degree = B.E. and experience < 5 years, salary=30000\n",
    "2. if degree = B.E. and experience >= 5 years, salary=40000\n",
    "3. if degree = M.E. and experience < 5 years, salary=50000\n",
    "4. if degree = M.E. and experience >= 5 years, salary= 60000"
   ]
  },
  {
   "cell_type": "code",
   "execution_count": 46,
   "metadata": {},
   "outputs": [
    {
     "name": "stdout",
     "output_type": "stream",
     "text": [
      "Enter your degree : ME\n",
      "Enter year of experience : 7\n",
      "Salary: 60000\n"
     ]
    }
   ],
   "source": [
    "deg = input('Enter your degree : ')\n",
    "ex = int(input('Enter year of experience : '))\n",
    "\n",
    "if deg == \"BE\":\n",
    "    if(ex < 5):\n",
    "        print(\"Salary: 30000\")\n",
    "    else:\n",
    "        print(\"Salary: 40000\")\n",
    "elif deg == \"ME\":\n",
    "    if(ex < 5):\n",
    "        print(\"Salary: 50000\")\n",
    "    else:\n",
    "        print(\"Salary: 60000\")\n",
    "else:\n",
    "    print(\"🥺\")"
   ]
  },
  {
   "cell_type": "markdown",
   "metadata": {},
   "source": [
    "## WAP to check whether entered input is character, digit or special symbol using ladder if-else."
   ]
  },
  {
   "cell_type": "code",
   "execution_count": 52,
   "metadata": {},
   "outputs": [
    {
     "name": "stdout",
     "output_type": "stream",
     "text": [
      "Enter anything: ^_^\n",
      "^_^  Special Symbol\n"
     ]
    }
   ],
   "source": [
    "c = input(\"Enter anything: \")\n",
    "if c.isdigit():\n",
    "    print(\"Number\")\n",
    "elif c.isalpha():\n",
    "    print(\"Alphabet\")\n",
    "else:\n",
    "    print(c,\" Special Symbol\")\n",
    "    "
   ]
  },
  {
   "cell_type": "code",
   "execution_count": null,
   "metadata": {},
   "outputs": [],
   "source": []
  }
 ],
 "metadata": {
  "kernelspec": {
   "display_name": "Python 3",
   "language": "python",
   "name": "python3"
  },
  "language_info": {
   "codemirror_mode": {
    "name": "ipython",
    "version": 3
   },
   "file_extension": ".py",
   "mimetype": "text/x-python",
   "name": "python",
   "nbconvert_exporter": "python",
   "pygments_lexer": "ipython3",
   "version": "3.8.5"
  }
 },
 "nbformat": 4,
 "nbformat_minor": 4
}
